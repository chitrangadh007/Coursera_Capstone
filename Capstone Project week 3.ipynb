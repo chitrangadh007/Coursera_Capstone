{
    "cells": [
        {
            "cell_type": "markdown",
            "metadata": {
                "collapsed": true
            },
            "source": "# Part 1 web scraping using python"
        },
        {
            "cell_type": "code",
            "execution_count": 1,
            "metadata": {},
            "outputs": [],
            "source": "import numpy as np\nimport pandas as pd\nimport requests\nfrom bs4 import BeautifulSoup"
        },
        {
            "cell_type": "code",
            "execution_count": 2,
            "metadata": {},
            "outputs": [],
            "source": "page = requests.get(\"https://en.wikipedia.org/wiki/List_of_postal_codes_of_Canada:_M\")\nsoup = BeautifulSoup(page.content, 'html.parser')"
        },
        {
            "cell_type": "code",
            "execution_count": 4,
            "metadata": {},
            "outputs": [],
            "source": "tableBody = soup.find_all('tbody', limit=1)[0]\n\ndfPostalToronto = pd.DataFrame(columns=['Postcode', 'Borough', 'Neighborhood'])"
        },
        {
            "cell_type": "markdown",
            "metadata": {},
            "source": "#### Parsing rows of html table and adding items to the data frame"
        },
        {
            "cell_type": "code",
            "execution_count": 9,
            "metadata": {},
            "outputs": [],
            "source": "for tag in tableBody.find_all('tr'):\n    postcod = tag.find_next()\n    borough = postcod.find_next()\n    neighborhood = borough.find_next()\n    \n    str_borough = borough.string     \n    \n    if borough.a is not None :\n      str_borough =  borough.a.string.strip()\n      neighborhood = neighborhood.find_next()\n        \n    str_neighborhood = neighborhood.string   \n    \n    if neighborhood.a is not None :\n      str_neighborhood =  neighborhood.a.string.strip()\n    \n    dfPostalToronto = dfPostalToronto.append({\n                        'Postcode'     : postcod.string.strip(), \n                        'Borough'      : str_borough, \n                        'Neighborhood': str_neighborhood.strip()}, ignore_index=True)"
        },
        {
            "cell_type": "markdown",
            "metadata": {},
            "source": "#### Preparing data and excluding boroughs that are not assigned"
        },
        {
            "cell_type": "code",
            "execution_count": 10,
            "metadata": {},
            "outputs": [],
            "source": "dfPostalToronto = dfPostalToronto.iloc[1:]\n\ndfPostalToronto = dfPostalToronto.loc[dfPostalToronto['Borough']  != 'Not assigned']\n\nnbAux = np.where(dfPostalToronto.Neighborhood.eq('Not assigned'), dfPostalToronto.Borough, dfPostalToronto.Neighborhood)\ndfPostalToronto.Neighborhood = nbAux"
        },
        {
            "cell_type": "code",
            "execution_count": 7,
            "metadata": {},
            "outputs": [],
            "source": "dfPostalToronto = dfPostalToronto.groupby(['Postcode', 'Borough'])['Neighborhood'].agg([('Neighborhood', ', '.join)])\ndfPostalToronto = dfPostalToronto.reset_index()"
        },
        {
            "cell_type": "code",
            "execution_count": 8,
            "metadata": {},
            "outputs": [
                {
                    "data": {
                        "text/plain": "(180, 3)"
                    },
                    "execution_count": 8,
                    "metadata": {},
                    "output_type": "execute_result"
                }
            ],
            "source": "dfPostalToronto.shape"
        },
        {
            "cell_type": "code",
            "execution_count": null,
            "metadata": {},
            "outputs": [],
            "source": ""
        }
    ],
    "metadata": {
        "kernelspec": {
            "display_name": "Python 3.6",
            "language": "python",
            "name": "python3"
        },
        "language_info": {
            "codemirror_mode": {
                "name": "ipython",
                "version": 3
            },
            "file_extension": ".py",
            "mimetype": "text/x-python",
            "name": "python",
            "nbconvert_exporter": "python",
            "pygments_lexer": "ipython3",
            "version": "3.6.9"
        }
    },
    "nbformat": 4,
    "nbformat_minor": 1
}