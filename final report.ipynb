{
    "cells": [
        {
            "cell_type": "markdown",
            "metadata": {
                "collapsed": true
            },
            "source": "# Introduction"
        },
        {
            "cell_type": "markdown",
            "metadata": {},
            "source": "The problem this project aims to solve is to analyse the location of coffee shops in New York city, which will help the tourists to find the best place around which they may reside to find most of these coffee shops near them."
        },
        {
            "cell_type": "markdown",
            "metadata": {},
            "source": "To solve this problem, we will need to leverage foursquare location data to render the location of coffee shops in New York city. To do this, the url for calling the foursquare api will contain the category id of coffee shops."
        },
        {
            "cell_type": "markdown",
            "metadata": {},
            "source": "This project targets all those tourists of New York city who want to have multiple options around their place of residence when it comes to coffee shops. This includes drip coffee drinkers, coffee shop lovers, i.e., people who want to spend time at shops and cafes where specialty drinks and regular cups of coffee are available along with an inviting atmosphere, specialty coffee drinkers, i.e., those who love specific ingredients in their coffee-based beverage, and are willing to pay a premium to get what they want, and whole bean buyers."
        },
        {
            "cell_type": "code",
            "execution_count": null,
            "metadata": {},
            "outputs": [],
            "source": ""
        }
    ],
    "metadata": {
        "kernelspec": {
            "display_name": "Python 3.6",
            "language": "python",
            "name": "python3"
        },
        "language_info": {
            "codemirror_mode": {
                "name": "ipython",
                "version": 3
            },
            "file_extension": ".py",
            "mimetype": "text/x-python",
            "name": "python",
            "nbconvert_exporter": "python",
            "pygments_lexer": "ipython3",
            "version": "3.6.9"
        }
    },
    "nbformat": 4,
    "nbformat_minor": 1
}